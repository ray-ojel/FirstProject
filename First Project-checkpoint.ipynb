{
 "cells": [
  {
   "cell_type": "markdown",
   "metadata": {},
   "source": [
    "# Profitable App Profiles for the App Store and Google Play Markets\n",
    "\n",
    "* Our company only builds *free* apps towards *English-speaking* audience\n",
    "\n",
    "* About: Analyze data to help our developers understand what type of apps are likely to attract more users.\n",
    "\n",
    "* Goal: To learn and do my first project\n"
   ]
  },
  {
   "cell_type": "markdown",
   "metadata": {},
   "source": [
    "Okay so first we define a function that helps us explore our datasets to see what's happening\n",
    "This function take 4 parameters, the first is the data set, second and third are index start and end, and fourth set to True to print the number of columns and rows"
   ]
  },
  {
   "cell_type": "code",
   "execution_count": 209,
   "metadata": {},
   "outputs": [],
   "source": [
    "def explore_data (dataset, start, end, rows_and_columns = False):\n",
    "    dataset_slice = dataset[start:end]\n",
    "    for row in dataset_slice: \n",
    "        print (row)\n",
    "        print (\"\\n\")\n",
    "        \n",
    "    if rows_and_columns: \n",
    "        print ('Number of rows: ', len(dataset))\n",
    "        print ('Number of columns: ', len(dataset[0]))"
   ]
  },
  {
   "cell_type": "markdown",
   "metadata": {},
   "source": [
    "* we need to import our data sets into python to be able to use them, to do that:\n",
    "1. from csv import reader: imports reader from the csv module\n",
    "2. opened_file = open(file): opens the file we want into our editor\n",
    "3. read_file = reader (opened_file): reads the opened file pretty much converts it to something python can read\n",
    "4. a_list = list(read_file): converts the read file to a list so we can use it with indexing and stuff"
   ]
  },
  {
   "cell_type": "code",
   "execution_count": 210,
   "metadata": {},
   "outputs": [],
   "source": [
    "from csv import reader \n",
    "opened_file = open ('AppleStore.csv', encoding = \"utf8\")\n",
    "read_file = reader (opened_file)\n",
    "a_list = list (read_file)\n",
    "apple_list = a_list [1:]\n",
    "\n",
    "opened_file = open ('googleplaystore.csv', encoding = 'utf8')\n",
    "read_file = reader (opened_file)\n",
    "g_list = list (read_file)\n",
    "google_list = g_list [1:]"
   ]
  },
  {
   "cell_type": "markdown",
   "metadata": {},
   "source": [
    "* This was done as an exploratory measure to see if our open file code above worked, this also helps us to see which columns seem important. \n",
    "* since we want only free apps that have the highest user reviews, we want the app name, price and number of reviews that should give us a criteria for selecting which apps are performing the best"
   ]
  },
  {
   "cell_type": "code",
   "execution_count": 211,
   "metadata": {},
   "outputs": [
    {
     "name": "stdout",
     "output_type": "stream",
     "text": [
      "['Photo Editor & Candy Camera & Grid & ScrapBook', 'ART_AND_DESIGN', '4.1', '159', '19M', '10,000+', 'Free', '0', 'Everyone', 'Art & Design', 'January 7, 2018', '1.0.0', '4.0.3 and up']\n",
      "\n",
      "\n",
      "['Coloring book moana', 'ART_AND_DESIGN', '3.9', '967', '14M', '500,000+', 'Free', '0', 'Everyone', 'Art & Design;Pretend Play', 'January 15, 2018', '2.0.0', '4.0.3 and up']\n",
      "\n",
      "\n",
      "['U Launcher Lite – FREE Live Cool Themes, Hide Apps', 'ART_AND_DESIGN', '4.7', '87510', '8.7M', '5,000,000+', 'Free', '0', 'Everyone', 'Art & Design', 'August 1, 2018', '1.2.4', '4.0.3 and up']\n",
      "\n",
      "\n",
      "Number of rows:  10841\n",
      "Number of columns:  13\n",
      "\n",
      "\n",
      "['284882215', 'Facebook', '389879808', 'USD', '0.0', '2974676', '212', '3.5', '3.5', '95.0', '4+', 'Social Networking', '37', '1', '29', '1']\n",
      "\n",
      "\n",
      "['389801252', 'Instagram', '113954816', 'USD', '0.0', '2161558', '1289', '4.5', '4.0', '10.23', '12+', 'Photo & Video', '37', '0', '29', '1']\n",
      "\n",
      "\n",
      "['529479190', 'Clash of Clans', '116476928', 'USD', '0.0', '2130805', '579', '4.5', '4.5', '9.24.12', '9+', 'Games', '38', '5', '18', '1']\n",
      "\n",
      "\n",
      "Number of rows:  7197\n",
      "Number of columns:  16\n"
     ]
    }
   ],
   "source": [
    "explore_data (google_list, 0, 3, True)\n",
    "print (\"\\n\")\n",
    "explore_data (apple_list, 0, 3, True)"
   ]
  },
  {
   "cell_type": "markdown",
   "metadata": {},
   "source": [
    "* from reading the google discussion, we saw that row number 10472 has an error in the category column resulting in skewed data and maybe our function cant perform\n",
    "* to clean this data, we need to delete the row using the del function for that index\n",
    "* but first, we have to see if the error is actually there so we'll compare"
   ]
  },
  {
   "cell_type": "code",
   "execution_count": 212,
   "metadata": {},
   "outputs": [
    {
     "name": "stdout",
     "output_type": "stream",
     "text": [
      "A normal google row looks like:  ['Photo Editor & Candy Camera & Grid & ScrapBook', 'ART_AND_DESIGN', '4.1', '159', '19M', '10,000+', 'Free', '0', 'Everyone', 'Art & Design', 'January 7, 2018', '1.0.0', '4.0.3 and up']\n",
      "\n",
      "\n",
      "The error row looks like:  ['Life Made WI-Fi Touchscreen Photo Frame', '1.9', '19', '3.0M', '1,000+', 'Free', '0', 'Everyone', '', 'February 11, 2018', '1.0.19', '4.0 and up']\n"
     ]
    }
   ],
   "source": [
    "print (\"A normal google row looks like: \", google_list[0])\n",
    "print (\"\\n\")\n",
    "print (\"The error row looks like: \", google_list[10472])"
   ]
  },
  {
   "cell_type": "code",
   "execution_count": 213,
   "metadata": {},
   "outputs": [],
   "source": [
    "# now we use the del function to delete that row\n",
    "# only run this once so we don't keep deleting rows we actually use\n",
    "del google_list[10472]"
   ]
  },
  {
   "cell_type": "markdown",
   "metadata": {},
   "source": [
    "* Another data cleaning step is removing duplicate apps\n",
    "* To test if we have duplicate apps, we create a list of original apps and a list of empty apps \n",
    "* we loop through the google_list and for every row in that list we want to:\n",
    "1. assign the name variable to the row[0], this means that name variable will have the value of the name from the list \n",
    "2. if the name is in the oringial list we created, then add (append) the name to the duplicate \n",
    "3. if not (else) add the name to the orinigal list"
   ]
  },
  {
   "cell_type": "code",
   "execution_count": 214,
   "metadata": {},
   "outputs": [],
   "source": [
    "original_apps = []\n",
    "duplicate_apps = []\n",
    "\n",
    "for every_row in google_list: \n",
    "    name = every_row [0]\n",
    "    if name in original_apps: \n",
    "        duplicate_apps.append(name)\n",
    "    else:\n",
    "        original_apps.append(name)"
   ]
  },
  {
   "cell_type": "markdown",
   "metadata": {},
   "source": [
    "* so now we have to see the number of duplicate apps and then the number of original apps becomes the total number from google list minus the number of duplicate apps\n",
    "* We also should list some exampels of duplicate apps and then see how many times one happens"
   ]
  },
  {
   "cell_type": "code",
   "execution_count": 215,
   "metadata": {},
   "outputs": [
    {
     "name": "stdout",
     "output_type": "stream",
     "text": [
      "Number of duplicate apps:  1181\n",
      "\n",
      "\n",
      "Some examples of duplicate apps:  ['Quick PDF Scanner + OCR FREE', 'Box', 'Google My Business', 'ZOOM Cloud Meetings', 'join.me - Simple Meetings', 'Box', 'Zenefits', 'Google Ads', 'Google My Business', 'Slack']\n",
      "\n",
      "\n",
      "Instagram is listed this many times:  \n",
      " ['Instagram', 'SOCIAL', '4.5', '66577313', 'Varies with device', '1,000,000,000+', 'Free', '0', 'Teen', 'Social', 'July 31, 2018', 'Varies with device', 'Varies with device']\n",
      "Instagram is listed this many times:  \n",
      " ['Instagram', 'SOCIAL', '4.5', '66577446', 'Varies with device', '1,000,000,000+', 'Free', '0', 'Teen', 'Social', 'July 31, 2018', 'Varies with device', 'Varies with device']\n",
      "Instagram is listed this many times:  \n",
      " ['Instagram', 'SOCIAL', '4.5', '66577313', 'Varies with device', '1,000,000,000+', 'Free', '0', 'Teen', 'Social', 'July 31, 2018', 'Varies with device', 'Varies with device']\n",
      "Instagram is listed this many times:  \n",
      " ['Instagram', 'SOCIAL', '4.5', '66509917', 'Varies with device', '1,000,000,000+', 'Free', '0', 'Teen', 'Social', 'July 31, 2018', 'Varies with device', 'Varies with device']\n",
      "\n",
      "\n",
      "Expected length:  9659\n"
     ]
    }
   ],
   "source": [
    "print (\"Number of duplicate apps: \", len(duplicate_apps))\n",
    "print (\"\\n\")\n",
    "print (\"Some examples of duplicate apps: \", duplicate_apps[0:10])\n",
    "print (\"\\n\")\n",
    "for element in google_list: \n",
    "    name = element [0]\n",
    "    if name == \"Instagram\":\n",
    "        print (\"Instagram is listed this many times: \", \"\\n\", element)\n",
    "\n",
    "print ('\\n')\n",
    "print ('Expected length: ', len(google_list) - len(duplicate_apps))"
   ]
  },
  {
   "cell_type": "markdown",
   "metadata": {},
   "source": [
    "* now we have to remove the duplicate rows\n",
    "* we can't just go randmoly and delete the rows that wouldn't make sense \n",
    "* so we can set a criterion, for example, if the app has the highest number of reviews that might suggest that the data for that app was taken most recently \n",
    "* so we should filter out based on the number of reviws \n",
    "* to do so, we need to create an empty dictionary and for every key name, which is the app name, we want to add the number of reviews to that key and only keep the highest reviews \n",
    "* then we should test the length of our dictionary to see if it matches our expected length"
   ]
  },
  {
   "cell_type": "code",
   "execution_count": 216,
   "metadata": {},
   "outputs": [
    {
     "data": {
      "text/plain": [
       "9659"
      ]
     },
     "execution_count": 216,
     "metadata": {},
     "output_type": "execute_result"
    }
   ],
   "source": [
    "reviews_max = {}\n",
    "\n",
    "for every_row in google_list:\n",
    "    name = every_row[0]\n",
    "    num_reviews = float(every_row[3])\n",
    "    \n",
    "    if name in reviews_max and reviews_max[name] < num_reviews: \n",
    "        reviews_max[name] = num_reviews \n",
    "        \n",
    "    elif name not in reviews_max: \n",
    "        reviews_max[name] = num_reviews\n",
    "        \n",
    "len (reviews_max)"
   ]
  },
  {
   "cell_type": "markdown",
   "metadata": {},
   "source": [
    "* Now to need to use the dictionary we created to remove the duplicate apps\n",
    "* To do so we need to create two lists, one that has the 'cleaned' data i.e without duplicates and the other is the already added to make sure we dont add the same app twice \n",
    "* We loop through the google list, and for every iteration:\n",
    "1. assign name and num_reviews variables to their respective indecies \n",
    "2. if name is in reviews_max and the number of reviews for that app is less than the number of reviews from the reviews max dic, then add the app to clean list\n",
    "3. e"
   ]
  },
  {
   "cell_type": "code",
   "execution_count": 217,
   "metadata": {},
   "outputs": [],
   "source": [
    "google_clean = []\n",
    "already_added = []\n",
    "\n",
    "for every_row in google_list: \n",
    "    name = every_row[0]\n",
    "    num_reviews = float(every_row[3])\n",
    "    \n",
    "    if (num_reviews == reviews_max[name]) and (name not in already_added):\n",
    "        google_clean.append(every_row)\n",
    "        already_added.append(name)\n",
    "        "
   ]
  },
  {
   "cell_type": "code",
   "execution_count": 218,
   "metadata": {},
   "outputs": [
    {
     "name": "stdout",
     "output_type": "stream",
     "text": [
      "Expected and Actual length:  9659\n"
     ]
    }
   ],
   "source": [
    "print (\"Expected and Actual length: \", len(google_clean))"
   ]
  },
  {
   "cell_type": "code",
   "execution_count": null,
   "metadata": {},
   "outputs": [],
   "source": []
  },
  {
   "cell_type": "markdown",
   "metadata": {},
   "source": [
    "Okay now that we've cleaned our data from errors and duplicates, we already checked the apple list and it is clean. Now, since our company only builds English apps that means that we need to filter out non-english apps out. To do so, we use the ASCII's number for english from 0 to 127. \n",
    "To do so, we create a function that takes in a string as the app name and returns:\n",
    "1. False: if for every character in the string, the ord (ASCII number) is larger than 127.\n",
    "2. True otherwise\n",
    "\n",
    "* Now we created a problem in that soem enlgish apps have emojis and stuff that are beyond 127 but the app is still english. So now we need to change our criterion. \n",
    "1. Instead of checking the whole name we check if 3 of the characters in name are larger than 127, the value returns False\n",
    "2. True otherwise\n",
    "\n",
    "* We then modified the function, this is becuase the orinigal function marked an app to be non-english if ANY of the characters is non-english. \n",
    "* For the modified function, we:\n",
    "1. created a variable with value 0\n",
    "2. loop through the name and for every character, if the character is non-english, i.e >127, then add 1 to the variable above \n",
    "3. if the variable is ever >3, then the name is non-english\n",
    "* This isnt a perfect system but it allows us to count in apps wiht emojis and nonenglish characters while the app still being english"
   ]
  },
  {
   "cell_type": "code",
   "execution_count": 219,
   "metadata": {},
   "outputs": [],
   "source": [
    "def english_apps(name):\n",
    "    non_english = 0\n",
    "    \n",
    "    for character in name:\n",
    "        if ord(character) > 127: \n",
    "            non_english += 1\n",
    "                \n",
    "    if non_english > 3:\n",
    "        return False        \n",
    "    else: \n",
    "        return True"
   ]
  },
  {
   "cell_type": "code",
   "execution_count": 220,
   "metadata": {},
   "outputs": [
    {
     "name": "stdout",
     "output_type": "stream",
     "text": [
      "True\n",
      "\n",
      "\n",
      "True\n",
      "\n",
      "\n",
      "False\n"
     ]
    }
   ],
   "source": [
    "print (english_apps('instagram'))\n",
    "print ('\\n')\n",
    "print (english_apps(google_clean[2344][0]))\n",
    "print ('\\n')\n",
    "print (english_apps('に最後後後後'))"
   ]
  },
  {
   "cell_type": "markdown",
   "metadata": {},
   "source": [
    "Now we need to use the function on our data sets, the google_clean and apple_list"
   ]
  },
  {
   "cell_type": "code",
   "execution_count": 221,
   "metadata": {},
   "outputs": [
    {
     "name": "stdout",
     "output_type": "stream",
     "text": [
      "['Photo Editor & Candy Camera & Grid & ScrapBook', 'ART_AND_DESIGN', '4.1', '159', '19M', '10,000+', 'Free', '0', 'Everyone', 'Art & Design', 'January 7, 2018', '1.0.0', '4.0.3 and up']\n",
      "\n",
      "\n",
      "['U Launcher Lite – FREE Live Cool Themes, Hide Apps', 'ART_AND_DESIGN', '4.7', '87510', '8.7M', '5,000,000+', 'Free', '0', 'Everyone', 'Art & Design', 'August 1, 2018', '1.2.4', '4.0.3 and up']\n",
      "\n",
      "\n",
      "['Sketch - Draw & Paint', 'ART_AND_DESIGN', '4.5', '215644', '25M', '50,000,000+', 'Free', '0', 'Teen', 'Art & Design', 'June 8, 2018', 'Varies with device', '4.2 and up']\n",
      "\n",
      "\n",
      "Number of rows:  9659\n",
      "Number of columns:  13\n",
      "\n",
      "\n",
      "['284882215', 'Facebook', '389879808', 'USD', '0.0', '2974676', '212', '3.5', '3.5', '95.0', '4+', 'Social Networking', '37', '1', '29', '1']\n",
      "\n",
      "\n",
      "['389801252', 'Instagram', '113954816', 'USD', '0.0', '2161558', '1289', '4.5', '4.0', '10.23', '12+', 'Photo & Video', '37', '0', '29', '1']\n",
      "\n",
      "\n",
      "['529479190', 'Clash of Clans', '116476928', 'USD', '0.0', '2130805', '579', '4.5', '4.5', '9.24.12', '9+', 'Games', '38', '5', '18', '1']\n",
      "\n",
      "\n",
      "Number of rows:  6183\n",
      "Number of columns:  16\n"
     ]
    }
   ],
   "source": [
    "google_english = []\n",
    "apple_english = []\n",
    "\n",
    "for every_row in apple_list: \n",
    "    name = every_row[1]\n",
    "    if english_apps(name):\n",
    "        apple_english.append(every_row)\n",
    "\n",
    "        \n",
    "for every_row in google_clean:\n",
    "    name = every_row[0]\n",
    "    if english_apps(name):\n",
    "        google_english.append(every_row)\n",
    "        \n",
    "explore_data (google_clean, 0, 3, True)\n",
    "print (\"\\n\")\n",
    "explore_data (apple_english, 0, 3, True)"
   ]
  },
  {
   "cell_type": "markdown",
   "metadata": {},
   "source": [
    "So far we've cleaned out data, we removed the error row in the google list then we removed duplicate apps then we removed non-english apps. \n",
    "Now our lists are google_english and apple_english.\n",
    "However, we still need to isolate free apps as our company only deals with free apps. "
   ]
  },
  {
   "cell_type": "code",
   "execution_count": 222,
   "metadata": {},
   "outputs": [
    {
     "name": "stdout",
     "output_type": "stream",
     "text": [
      "['Photo Editor & Candy Camera & Grid & ScrapBook', 'ART_AND_DESIGN', '4.1', '159', '19M', '10,000+', 'Free', '0', 'Everyone', 'Art & Design', 'January 7, 2018', '1.0.0', '4.0.3 and up']\n",
      "\n",
      "\n",
      "['U Launcher Lite – FREE Live Cool Themes, Hide Apps', 'ART_AND_DESIGN', '4.7', '87510', '8.7M', '5,000,000+', 'Free', '0', 'Everyone', 'Art & Design', 'August 1, 2018', '1.2.4', '4.0.3 and up']\n",
      "\n",
      "\n",
      "['Sketch - Draw & Paint', 'ART_AND_DESIGN', '4.5', '215644', '25M', '50,000,000+', 'Free', '0', 'Teen', 'Art & Design', 'June 8, 2018', 'Varies with device', '4.2 and up']\n",
      "\n",
      "\n",
      "Number of rows:  8864\n",
      "Number of columns:  13\n",
      "\n",
      "\n",
      "['284882215', 'Facebook', '389879808', 'USD', '0.0', '2974676', '212', '3.5', '3.5', '95.0', '4+', 'Social Networking', '37', '1', '29', '1']\n",
      "\n",
      "\n",
      "['389801252', 'Instagram', '113954816', 'USD', '0.0', '2161558', '1289', '4.5', '4.0', '10.23', '12+', 'Photo & Video', '37', '0', '29', '1']\n",
      "\n",
      "\n",
      "['529479190', 'Clash of Clans', '116476928', 'USD', '0.0', '2130805', '579', '4.5', '4.5', '9.24.12', '9+', 'Games', '38', '5', '18', '1']\n",
      "\n",
      "\n",
      "Number of rows:  3222\n",
      "Number of columns:  16\n"
     ]
    }
   ],
   "source": [
    "free_google = []\n",
    "for every_row in google_english: \n",
    "    price = every_row[7]\n",
    "    if price == '0':\n",
    "        free_google.append(every_row)\n",
    "        \n",
    "        \n",
    "free_apple = []\n",
    "for every_row in apple_english: \n",
    "    price = every_row[4]\n",
    "    if price == '0.0':\n",
    "        free_apple.append(every_row)\n",
    "        \n",
    "explore_data (free_google, 0, 3, True)\n",
    "print ('\\n')\n",
    "explore_data (free_apple, 0, 3, True)"
   ]
  },
  {
   "cell_type": "markdown",
   "metadata": {},
   "source": [
    "Ok so now that our data is fully cleaned to how we want it, we want to see which apps categories make the most profit. \n",
    "The reason is because in our company, we see which apps are doing good, we make an android version of this app and release it to the google play store, if the app does good after 6 months, we release it to the Apple store. So now we need to see which apps occur the most frequent because that might give us an idea of which apps are the most popular. "
   ]
  },
  {
   "cell_type": "code",
   "execution_count": 223,
   "metadata": {},
   "outputs": [
    {
     "name": "stdout",
     "output_type": "stream",
     "text": [
      "['Photo Editor & Candy Camera & Grid & ScrapBook', 'ART_AND_DESIGN', '4.1', '159', '19M', '10,000+', 'Free', '0', 'Everyone', 'Art & Design', 'January 7, 2018', '1.0.0', '4.0.3 and up']\n",
      "\n",
      "\n",
      "['U Launcher Lite – FREE Live Cool Themes, Hide Apps', 'ART_AND_DESIGN', '4.7', '87510', '8.7M', '5,000,000+', 'Free', '0', 'Everyone', 'Art & Design', 'August 1, 2018', '1.2.4', '4.0.3 and up']\n",
      "\n",
      "\n",
      "['Sketch - Draw & Paint', 'ART_AND_DESIGN', '4.5', '215644', '25M', '50,000,000+', 'Free', '0', 'Teen', 'Art & Design', 'June 8, 2018', 'Varies with device', '4.2 and up']\n",
      "\n",
      "\n",
      "Number of rows:  8864\n",
      "Number of columns:  13\n",
      "\n",
      "\n",
      "['284882215', 'Facebook', '389879808', 'USD', '0.0', '2974676', '212', '3.5', '3.5', '95.0', '4+', 'Social Networking', '37', '1', '29', '1']\n",
      "\n",
      "\n",
      "['389801252', 'Instagram', '113954816', 'USD', '0.0', '2161558', '1289', '4.5', '4.0', '10.23', '12+', 'Photo & Video', '37', '0', '29', '1']\n",
      "\n",
      "\n",
      "['529479190', 'Clash of Clans', '116476928', 'USD', '0.0', '2130805', '579', '4.5', '4.5', '9.24.12', '9+', 'Games', '38', '5', '18', '1']\n",
      "\n",
      "\n",
      "Number of rows:  3222\n",
      "Number of columns:  16\n"
     ]
    }
   ],
   "source": [
    "explore_data(free_google, 0, 3, True)\n",
    "print ('\\n')\n",
    "explore_data(free_apple, 0, 3, True)"
   ]
  },
  {
   "cell_type": "markdown",
   "metadata": {},
   "source": [
    "Below we create a function that generates a frequency table. To do that, we define the fre_table function that takes in two parameters, the dataset and the index.\n",
    "1. create an empty dictionary (freq_table)\n",
    "2. loop through the data set and for every row: \n",
    "3. take the category index and assign itto a variable \n",
    "4. if the variable is in the ft dic, then we add 1 to the current value at that key \n",
    "5. else, we just add 1"
   ]
  },
  {
   "cell_type": "code",
   "execution_count": 224,
   "metadata": {},
   "outputs": [],
   "source": [
    "def freq_table(dataset, index):\n",
    "    ft = {}\n",
    "    \n",
    "    \n",
    "    for every_row in dataset:\n",
    "        category = every_row[index]\n",
    "        if category in ft: \n",
    "            ft[category] += 1\n",
    "        else: \n",
    "            ft[category] = 1\n",
    "            \n",
    "    ft_percentage = {}       \n",
    "    for key in ft: \n",
    "        ft_percentage[key] = ((ft[key] / len(dataset)) * 100)\n",
    "        \n",
    "    return ft_percentage\n"
   ]
  },
  {
   "cell_type": "markdown",
   "metadata": {},
   "source": [
    "Since we created this, now we need a function that gives us the desceinding order (THIS WAS GIVEN)\n",
    "* The function takes in two parameters, a dataset and the index: \n",
    "* Generates a freuency table using our defined funciton above\n",
    "* Since the sorted function doesnt work well with dictionaries, we need to convert the freq table (which is a dic) to a list\n",
    "* We create an empty list\n",
    "* We loop through the frequency table and for every key, we assign a variable to the ft table value and the key, then we append the empty list with that variable, (This makes our value show up first so we can sort based on percentages)\n",
    "* Then we created the sorted variable and assigned the table display list to in reverse (i.e from highest to lowest) order"
   ]
  },
  {
   "cell_type": "code",
   "execution_count": 225,
   "metadata": {},
   "outputs": [],
   "source": [
    "def display_table(dataset,index):\n",
    "    table = freq_table(dataset, index)\n",
    "    table_display = []\n",
    "    for key in table: \n",
    "        key_val_as_tuple = (table[key], key)\n",
    "        table_display.append(key_val_as_tuple)\n",
    "    \n",
    "    table_sorted = sorted (table_display, reverse = True)\n",
    "    return table_sorted\n",
    "#     for entry in table_sorted: # This is useless\n",
    "#         print (entry[1], ':', entry[0]) # I would've just used return"
   ]
  },
  {
   "cell_type": "code",
   "execution_count": 226,
   "metadata": {},
   "outputs": [
    {
     "name": "stdout",
     "output_type": "stream",
     "text": [
      "[(18.907942238267147, 'FAMILY'), (9.724729241877256, 'GAME'), (8.461191335740072, 'TOOLS'), (4.591606498194946, 'BUSINESS'), (3.9034296028880866, 'LIFESTYLE'), (3.892148014440433, 'PRODUCTIVITY'), (3.7003610108303246, 'FINANCE'), (3.531137184115524, 'MEDICAL'), (3.395758122743682, 'SPORTS'), (3.3167870036101084, 'PERSONALIZATION'), (3.2378158844765346, 'COMMUNICATION'), (3.0798736462093865, 'HEALTH_AND_FITNESS'), (2.944494584837545, 'PHOTOGRAPHY'), (2.7978339350180503, 'NEWS_AND_MAGAZINES'), (2.6624548736462095, 'SOCIAL'), (2.33528880866426, 'TRAVEL_AND_LOCAL'), (2.2450361010830324, 'SHOPPING'), (2.1435018050541514, 'BOOKS_AND_REFERENCE'), (1.861462093862816, 'DATING'), (1.7937725631768955, 'VIDEO_PLAYERS'), (1.3989169675090252, 'MAPS_AND_NAVIGATION'), (1.2409747292418771, 'FOOD_AND_DRINK'), (1.1620036101083033, 'EDUCATION'), (0.9589350180505415, 'ENTERTAINMENT'), (0.9363718411552346, 'LIBRARIES_AND_DEMO'), (0.9250902527075812, 'AUTO_AND_VEHICLES'), (0.8235559566787004, 'HOUSE_AND_HOME'), (0.8009927797833934, 'WEATHER'), (0.7107400722021661, 'EVENTS'), (0.6543321299638989, 'PARENTING'), (0.6430505415162455, 'ART_AND_DESIGN'), (0.6204873646209386, 'COMICS'), (0.5979241877256317, 'BEAUTY')]\n",
      "\n",
      "\n",
      "\n",
      "\n"
     ]
    }
   ],
   "source": [
    "google_category = display_table(free_google, 1)\n",
    "print (google_category)\n",
    "print ('\\n')\n",
    "apple_category = display_table(free_apple, 11)\n",
    "print ('\\n')\n",
    "google_genre = display_table(free_google, 9)"
   ]
  },
  {
   "cell_type": "markdown",
   "metadata": {},
   "source": [
    "Now we can analyze the data above, this list contains free apps, that have the highest ratings and the percentages of how many times they show up. \n",
    "* What is the most common genre? Family, Games and Tools\n",
    "* What is the runner-up? Game, Entertainment, Entertainment\n",
    "* What other patterns do I see? Family, games, tools, entertainment and business apps have the highest frequency, that may suggest that theyre the most popular apps to users \n",
    "* What are the most apps designed for? Practical or entertainment purposes? \n",
    "(We use the freq_table to test) \n",
    "* Based on the data below I think the app category is close to call, the general genres of life vs entertaimnet has about the same values, bue over all games, family and tools dominate so I would recommend we make an entertainment app such as a game or social or something along those lines\n"
   ]
  },
  {
   "cell_type": "code",
   "execution_count": 227,
   "metadata": {},
   "outputs": [
    {
     "name": "stdout",
     "output_type": "stream",
     "text": [
      "19.47406563826483\n",
      "\n",
      "\n",
      "19.44300652241433\n"
     ]
    }
   ],
   "source": [
    "google_test = freq_table(google_clean, 1)\n",
    "print (google_test['EDUCATION'] + google_test['TOOLS'] \n",
    "       + google_test['SHOPPING'] + google_test['PRODUCTIVITY'] \n",
    "      + google_test['LIFESTYLE'])\n",
    "print ('\\n')\n",
    "print (google_test['GAME'] + google_test['PHOTOGRAPHY'] \n",
    "       + google_test['SOCIAL'] + google_test['ENTERTAINMENT'] \n",
    "      + google_test['SPORTS'])"
   ]
  },
  {
   "cell_type": "markdown",
   "metadata": {},
   "source": [
    "Now we're gonna analyze the apple list: \n",
    "* What are the most common genres? Social networking, photo & video and Games\n",
    "* What are the runner-ups? Music, reference and Health & Fitness\n",
    "* What other patterns? I notice that entertainment has way more apps 70% vs 12% which suggests a strong corelation that the best apps are entertainment apps\n",
    "* This is weird becuase our whole strategy is to release the app on google market first to see if it performs well but if we compare, we see that apple apps for entertainment are more popular by about 50% than google so it may not be a good indication if the app will work well on both markets\n"
   ]
  },
  {
   "cell_type": "code",
   "execution_count": 228,
   "metadata": {},
   "outputs": [
    {
     "name": "stdout",
     "output_type": "stream",
     "text": [
      "{'Social Networking': 3.2898820608317814, 'Photo & Video': 4.9658597144630665, 'Games': 58.16263190564867, 'Music': 2.0484171322160147, 'Reference': 0.5586592178770949, 'Health & Fitness': 2.0173805090006205, 'Weather': 0.8690254500310366, 'Utilities': 2.5139664804469275, 'Travel': 1.2414649286157666, 'Shopping': 2.60707635009311, 'News': 1.3345747982619491, 'Navigation': 0.186219739292365, 'Lifestyle': 1.5828677839851024, 'Entertainment': 7.883302296710118, 'Food & Drink': 0.8069522036002483, 'Sports': 2.1415270018621975, 'Book': 0.4345127250155183, 'Finance': 1.1173184357541899, 'Education': 3.662321539416512, 'Productivity': 1.7380509000620732, 'Business': 0.5276225946617008, 'Catalogs': 0.12414649286157665, 'Medical': 0.186219739292365}\n",
      "12.104283054003725\n",
      "\n",
      "\n",
      "70.60831781502173\n"
     ]
    }
   ],
   "source": [
    "apple_test = freq_table(free_apple, -5)\n",
    "print (apple_test)\n",
    "print (apple_test['Education'] + apple_test['Utilities'] \n",
    "       + apple_test['Shopping'] + apple_test['Productivity'] \n",
    "      + apple_test['Lifestyle'])\n",
    "print ('\\n')\n",
    "print (apple_test['Games'] + apple_test['Photo & Video'] \n",
    "       + apple_test['Social Networking'] + apple_test['Music'] \n",
    "      + apple_test['Sports'])"
   ]
  },
  {
   "cell_type": "markdown",
   "metadata": {},
   "source": [
    "Now we should analyze the number of downloads for each app to give us an idea"
   ]
  },
  {
   "cell_type": "code",
   "execution_count": 229,
   "metadata": {},
   "outputs": [
    {
     "name": "stdout",
     "output_type": "stream",
     "text": [
      "Social Networking : 71548.35\n",
      "Photo & Video : 28441.54\n",
      "Games : 22788.67\n",
      "Music : 57326.53\n",
      "Reference : 74942.11\n",
      "Health & Fitness : 23298.02\n",
      "Weather : 52279.89\n",
      "Utilities : 18684.46\n",
      "Travel : 28243.8\n",
      "Shopping : 26919.69\n",
      "News : 21248.02\n",
      "Navigation : 86090.33\n",
      "Lifestyle : 16485.76\n",
      "Entertainment : 14029.83\n",
      "Food & Drink : 33333.92\n",
      "Sports : 23008.9\n",
      "Book : 39758.5\n",
      "Finance : 31467.94\n",
      "Education : 7003.98\n",
      "Productivity : 21028.41\n",
      "Business : 7491.12\n",
      "Catalogs : 4004.0\n",
      "Medical : 612.0\n"
     ]
    }
   ],
   "source": [
    "# APPLE\n",
    "\n",
    "unique_genres = freq_table(free_apple, -5)\n",
    "\n",
    "for genre in unique_genres:\n",
    "    total = 0\n",
    "    len_genre = 0\n",
    "    for every_row in free_apple: \n",
    "        genre_app = every_row[-5]\n",
    "        if genre_app == genre:\n",
    "            user_rating = float(every_row[5])\n",
    "            total += user_rating\n",
    "            len_genre += 1\n",
    "    avg_num_user = total / len_genre\n",
    "    print (genre, ':', round(avg_num_user,2))\n",
    "\n"
   ]
  },
  {
   "cell_type": "markdown",
   "metadata": {},
   "source": [
    "We can see that nagivation apps have the highest number of reviews, now since our system is not the best, becuase it doenst actually take into account the number of downloads, and based on what we've seen before that entertainment apps have the highest ratings, I would suggest to either make a Social Networking app, a Navigation app, or a Referece app (whatever that may be)"
   ]
  },
  {
   "cell_type": "code",
   "execution_count": 230,
   "metadata": {},
   "outputs": [
    {
     "name": "stdout",
     "output_type": "stream",
     "text": [
      "['App', 'Category', 'Rating', 'Reviews', 'Size', 'Installs', 'Type', 'Price', 'Content Rating', 'Genres', 'Last Updated', 'Current Ver', 'Android Ver']\n"
     ]
    }
   ],
   "source": [
    "print(g_list[0])"
   ]
  },
  {
   "cell_type": "code",
   "execution_count": 231,
   "metadata": {},
   "outputs": [
    {
     "name": "stdout",
     "output_type": "stream",
     "text": [
      "ART_AND_DESIGN ; 1986335.09\n",
      "AUTO_AND_VEHICLES ; 647317.82\n",
      "BEAUTY ; 513151.89\n",
      "BOOKS_AND_REFERENCE ; 8767811.89\n",
      "BUSINESS ; 1712290.15\n",
      "COMICS ; 817657.27\n",
      "COMMUNICATION ; 38456119.17\n",
      "DATING ; 854028.83\n",
      "EDUCATION ; 1833495.15\n",
      "ENTERTAINMENT ; 11640705.88\n",
      "EVENTS ; 253542.22\n",
      "FINANCE ; 1387692.48\n",
      "FOOD_AND_DRINK ; 1924897.74\n",
      "HEALTH_AND_FITNESS ; 4188821.99\n",
      "HOUSE_AND_HOME ; 1331540.56\n",
      "LIBRARIES_AND_DEMO ; 638503.73\n",
      "LIFESTYLE ; 1437816.27\n",
      "GAME ; 15588015.6\n",
      "FAMILY ; 3695641.82\n",
      "MEDICAL ; 120550.62\n",
      "SOCIAL ; 23253652.13\n",
      "SHOPPING ; 7036877.31\n",
      "PHOTOGRAPHY ; 17840110.4\n",
      "SPORTS ; 3638640.14\n",
      "TRAVEL_AND_LOCAL ; 13984077.71\n",
      "TOOLS ; 10801391.3\n",
      "PERSONALIZATION ; 5201482.61\n",
      "PRODUCTIVITY ; 16787331.34\n",
      "PARENTING ; 542603.62\n",
      "WEATHER ; 5074486.2\n",
      "VIDEO_PLAYERS ; 24727872.45\n",
      "NEWS_AND_MAGAZINES ; 9549178.47\n",
      "MAPS_AND_NAVIGATION ; 4056941.77\n"
     ]
    }
   ],
   "source": [
    "# GOOGLE\n",
    "# Before, google install has un numeral characters ike + and , which \n",
    "# we need to remove \n",
    "\n",
    "unique_g_apps = freq_table (free_google, 1)\n",
    "\n",
    "for category in unique_g_apps: \n",
    "    total = 0\n",
    "    len_cat = 0\n",
    "    for every_row in free_google: \n",
    "        category_g = every_row[1]\n",
    "        if category_g == category:\n",
    "            avg_install = (every_row[5])\n",
    "            avg_install = avg_install.replace('+', '')\n",
    "            avg_install = avg_install.replace(',', '')\n",
    "            avg_install = float(avg_install)\n",
    "            total += avg_install\n",
    "            len_cat += 1\n",
    "    avg_install_tot = total / len_cat\n",
    "    print (category, \";\", round(avg_install_tot, 2))"
   ]
  },
  {
   "cell_type": "markdown",
   "metadata": {},
   "source": [
    "From the above ratings, we see that game and social have the highest total number of installs which I would suggest being the best options for us as more people see the ads and we make more money"
   ]
  }
 ],
 "metadata": {
  "kernelspec": {
   "display_name": "Python 3",
   "language": "python",
   "name": "python3"
  },
  "language_info": {
   "codemirror_mode": {
    "name": "ipython",
    "version": 3
   },
   "file_extension": ".py",
   "mimetype": "text/x-python",
   "name": "python",
   "nbconvert_exporter": "python",
   "pygments_lexer": "ipython3",
   "version": "3.7.4"
  }
 },
 "nbformat": 4,
 "nbformat_minor": 2
}
